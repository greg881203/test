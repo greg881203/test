{
 "cells": [
  {
   "cell_type": "code",
   "execution_count": 1,
   "source": [
    "n2=int(input(\"請輸入第一個數字\"))\r\n",
    "n3=int(input(\"請輸入第二個數字\"))\r\n",
    "op=input(\"請輸入運算\")\r\n",
    "if op==\"+\":\r\n",
    "    print(n2+n3)\r\n",
    "elif op==\"-\":\r\n",
    "    print(n2-n3)\r\n",
    "elif op==\"*\":\r\n",
    "    print(n2*n3)\r\n",
    "else:\r\n",
    "    print(n2/n3)"
   ],
   "outputs": [
    {
     "output_type": "stream",
     "name": "stdout",
     "text": [
      "11\n"
     ]
    }
   ],
   "metadata": {}
  },
  {
   "cell_type": "code",
   "execution_count": null,
   "source": [],
   "outputs": [],
   "metadata": {}
  }
 ],
 "metadata": {
  "kernelspec": {
   "name": "python3",
   "display_name": "Python 3.9.6 64-bit"
  },
  "language_info": {
   "codemirror_mode": {
    "name": "ipython",
    "version": 3
   },
   "file_extension": ".py",
   "mimetype": "text/x-python",
   "name": "python",
   "nbconvert_exporter": "python",
   "pygments_lexer": "ipython3",
   "version": "3.9.6"
  },
  "interpreter": {
   "hash": "2647ea34e536f865ab67ff9ddee7fd78773d956cec0cab53c79b32cd10da5d83"
  }
 },
 "nbformat": 4,
 "nbformat_minor": 5
}